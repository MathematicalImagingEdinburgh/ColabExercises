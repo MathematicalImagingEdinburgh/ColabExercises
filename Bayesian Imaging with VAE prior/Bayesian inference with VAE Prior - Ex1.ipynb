{
 "cells": [
  {
   "cell_type": "markdown",
   "metadata": {
    "id": "CHRe6dej06ga"
   },
   "source": [
    "# Excercise 1: Using generative models as priors in Bayesian inference problems\n",
    "\n",
    "For many problems in statistical image analysis, we are interested in recovering an image of interest, $x \\in \\mathbb{R}^d$, from a set of measurements $y \\in \\mathbb{R}^n$.\n",
    "\n",
    "We consider linear Gaussian measurement models of the form \n",
    "$$y = Ax + w,$$ where $A \\in \\mathbb{R}^{n \\times d}$ is a linear operator and $w \\sim N(0, \\sigma^2 I_d)$ is a noise term.  Here, we study the case where both $A$ and $\\sigma^2 \\in \\mathbb{R}$ are known.  The recovery of x from y is often ill posed or ill conditioned, so we regularize the estimation problem by incorporating prior information.\n",
    "\n",
    "The measurement model defines a likelihood function $p(y|x)$.  To define a prior, we use a generative model, namely a pre-trained Variational Autoencoder (VAE)."
   ]
  },
  {
   "cell_type": "markdown",
   "metadata": {
    "id": "5DTYmfHHAr7p"
   },
   "source": [
    "## Very Brief Introduction to Generative Models\n",
    "\n",
    "Let $\\{x_1, ..., x_N\\}$ be a large training dataset of clean data, which we assume to be i.i.d. samples from a data generating distribution $\\mu$.  Generative models (such as GANs, VAEs and Flow-based models) aim to learn an approximation $\\mu_\\theta$ of this distribution from the training data, parametrised by a neural network $f_\\theta$.\n",
    "\n",
    "Many such models have the following structure:\n",
    "1. A latent variable $z$ is defined, with distribution $\\nu_z$ and density $p_z$. This distribution is usually chosen to be simple to sample, *e.g.*, $z \\sim N(0, I)$.\n",
    "2. $\\mu_\\theta$ is defined as the $f_\\theta$-pushforward of $\\nu_z$, *i.e.*\n",
    "$$\n",
    "\\mu_\\theta(A) = \\nu_z(f_\\theta^{-1}(A))\n",
    "$$\n",
    "for all measurable sets $A$.\n",
    "3. The neural network $f_\\theta$ is then trained to minimise some measure of discrepancy between $\\mu_\\theta$ and the training data.\n",
    "\n",
    "By sampling $\\{z_i\\}_i$ according to $\\nu_z$, and taking $\\{x_i = f_\\theta(z_i) \\}_i$, we can thus generate samples from $\\mu_\\theta$.  This is the basic framework of highly publicised models such as StyleGAN ([thispersondoesnotexist.com](https://www.thispersondoesnotexist.com)).\n",
    "\n",
    "In this exercise, we use the learnt distribution $\\mu_\\theta$ as a prior in inverse problems. This exercise is based on Holden et al. (2022) https://arxiv.org/abs/2103.10182, except that Bayesian computation is performed by using an unadjusted Langevin algorithm instead of a parallel tempering Metropolis-Hasting algorithm."
   ]
  },
  {
   "cell_type": "markdown",
   "metadata": {
    "id": "dhh1aeGIAoCQ"
   },
   "source": [
    "## Defining a prior using a VAE\n",
    "\n",
    "For VAEs, the latent variable, $z$ is chosen to have lower dimensionality than the variable of interest $x$.  This means $\\mu_\\theta$ does not define a density w.r.t. the Lebesgue measure.  The typical Bayesian update\n",
    "\n",
    "$$\n",
    "p_\\theta(x|y) \\propto p(y|x) p_\\theta(x)\n",
    "$$\n",
    "\n",
    "is therefore not possible, since $p(x)$ is not defined.\n",
    "\n",
    "However, Bayesian analysis is made possible by working directly with the latent variable $z$.  The posterior density $p_\\theta(z|y)$ is given by\n",
    "\n",
    "$$\n",
    "p_\\theta(z|y) \\propto p(y|x=f_\\theta(z)) p_z(z)\\\\\n",
    "= p_\\theta(y|z) p_z(z).\n",
    "$$\n",
    "\n",
    "This distribution can then be sampled to generate $\\{z_i\\}_i$ according to $p_\\theta(z|y)$.  Taking $x_i = f_\\theta(z_i)$, we therefore generate samples $\\{x_i\\}$ from the posterior distribution of $x|y$.\n",
    "\n",
    "\n",
    "\n",
    "\\\n",
    "\n",
    "\n",
    "\\\n",
    "\n",
    "In this exercise, we will use the Unadjusted Langevin Algorithm (ULA) to sample this distribution in order to perform Monte Carlo estimation."
   ]
  },
  {
   "cell_type": "markdown",
   "metadata": {
    "id": "GAZfwEdUDC0V"
   },
   "source": [
    "## Getting Started"
   ]
  },
  {
   "cell_type": "markdown",
   "metadata": {
    "id": "MaQ_RCOsYeGk"
   },
   "source": [
    "To begin, we clone the github repository where the pretrained network is stored, and load the required packages."
   ]
  },
  {
   "cell_type": "code",
   "execution_count": null,
   "metadata": {
    "colab": {
     "base_uri": "https://localhost:8080/"
    },
    "executionInfo": {
     "elapsed": 5698,
     "status": "ok",
     "timestamp": 1647957160223,
     "user": {
      "displayName": "Edinburgh Mathematical Imaging",
      "photoUrl": "https://lh3.googleusercontent.com/a/default-user=s64",
      "userId": "00456964704998178126"
     },
     "user_tz": 0
    },
    "id": "2ZVcs_dSDYSM",
    "outputId": "afb789d2-662e-485d-d494-042a3fc2c618"
   },
   "outputs": [
    {
     "name": "stdout",
     "output_type": "stream",
     "text": [
      "/content\n",
      "Cloning into 'ColabTutorials'...\n",
      "remote: Enumerating objects: 100, done.\u001b[K\n",
      "remote: Counting objects: 100% (100/100), done.\u001b[K\n",
      "remote: Compressing objects: 100% (89/89), done.\u001b[K\n",
      "remote: Total 100 (delta 21), reused 62 (delta 8), pack-reused 0\u001b[K\n",
      "Receiving objects: 100% (100/100), 36.07 MiB | 12.55 MiB/s, done.\n",
      "Resolving deltas: 100% (21/21), done.\n",
      "/content/ColabTutorials/Bayesian Imaging with VAE prior\n"
     ]
    }
   ],
   "source": [
    "%cd /content\n",
    "!git clone https://github.com/MathematicalImagingEdinburgh/ColabExercises.git\n",
    "%cd ColabTutorials/Bayesian Imaging with VAE prior"
   ]
  },
  {
   "cell_type": "code",
   "execution_count": null,
   "metadata": {
    "colab": {
     "base_uri": "https://localhost:8080/"
    },
    "executionInfo": {
     "elapsed": 6244,
     "status": "ok",
     "timestamp": 1647957167626,
     "user": {
      "displayName": "Edinburgh Mathematical Imaging",
      "photoUrl": "https://lh3.googleusercontent.com/a/default-user=s64",
      "userId": "00456964704998178126"
     },
     "user_tz": 0
    },
    "id": "dEAYX066r_xR",
    "outputId": "bbdab7bb-c98b-40c7-c4a2-4de65a15fe8f"
   },
   "outputs": [
    {
     "name": "stdout",
     "output_type": "stream",
     "text": [
      "Collecting kornia\n",
      "  Downloading kornia-0.6.4-py2.py3-none-any.whl (493 kB)\n",
      "\u001b[K     |████████████████████████████████| 493 kB 4.3 MB/s \n",
      "\u001b[?25hRequirement already satisfied: packaging in /usr/local/lib/python3.7/dist-packages (from kornia) (21.3)\n",
      "Requirement already satisfied: torch>=1.8.1 in /usr/local/lib/python3.7/dist-packages (from kornia) (1.10.0+cu111)\n",
      "Requirement already satisfied: typing-extensions in /usr/local/lib/python3.7/dist-packages (from torch>=1.8.1->kornia) (3.10.0.2)\n",
      "Requirement already satisfied: pyparsing!=3.0.5,>=2.0.2 in /usr/local/lib/python3.7/dist-packages (from packaging->kornia) (3.0.7)\n",
      "Installing collected packages: kornia\n",
      "Successfully installed kornia-0.6.4\n"
     ]
    }
   ],
   "source": [
    "import torch\n",
    "from torch.utils.data import DataLoader\n",
    "from torchvision import datasets, transforms\n",
    "from utils import *\n",
    "from vae import *\n",
    "import matplotlib.pyplot as plt\n",
    "from sklearn.decomposition import PCA\n",
    "!pip install kornia\n",
    "import kornia\n",
    "\n",
    "def imshow(x):\n",
    "  plt.figure()\n",
    "  plt.imshow(x[0,0].detach().cpu().numpy(), cmap=\"gray\")\n",
    "  plt.axis(\"off\")\n",
    "\n",
    "\n",
    "device = \"cpu\""
   ]
  },
  {
   "cell_type": "markdown",
   "metadata": {
    "id": "LGHnCw35EpON"
   },
   "source": [
    "## Load an MNIST digit as the \"true\" unknown image $x$, and generate the observed data $y$ by degrading $x$ by applying a degradation filter and some additive noise."
   ]
  },
  {
   "cell_type": "markdown",
   "metadata": {
    "id": "6mCnQpgjYt6U"
   },
   "source": [
    "\n",
    "We will apply this methodology to the MNIST dataset of handwritten images."
   ]
  },
  {
   "cell_type": "markdown",
   "metadata": {
    "id": "AqvqKAnLFO86"
   },
   "source": [
    "### Set $x$ to a randomly selected element of the MNIST dataset"
   ]
  },
  {
   "cell_type": "code",
   "execution_count": null,
   "metadata": {
    "colab": {
     "base_uri": "https://localhost:8080/",
     "height": 423,
     "referenced_widgets": [
      "d6f24e7b6a96477a9dd37c13d4c1b149",
      "5fff1581c661485895bf8e55e4ec5fd9",
      "7e0e082aa7d046878de2866335c1d4dd",
      "941c8916fed44b90956ffc9f93fa3ad5",
      "6b4a718ac8544b6e8e3a87ca9620df3e",
      "af013d970e314c239fd7c2d7f8167ea5",
      "09c96664412a4e68a069d56e81ee4ee6",
      "cb4fa0731be94cccac49b8bd7d07ec56",
      "a43980e79554498d9a3a0c4b9434a6d5",
      "ad3d0ac580564f6da1f8d29630343ffc",
      "f57f10df121346cda73e9220870586d1",
      "bf7ed4d40d50486c957f155d35c1b139",
      "9f5e03e3f97247718bba0c76029f47e8",
      "4df0de8db5aa4c828b8eec0b90ef0dcf",
      "73015cb052ad4596ad81198ab06580dd",
      "634241987ef948b992f2a7324147eb86",
      "422afb9ed68548ec95dd994de59c3300",
      "221ae56a8b1240f9ac6bd1e392812dd0",
      "ef986d074f5a4ca78a350f6e2e0c5de1",
      "8f0b3dbf53314595a32dd3821fc51b72",
      "e68afde2ca334a3494e6a54ede0719fb",
      "a58a2e3cf9f64042be64fd25a493dc46",
      "5c0896d250e34622a2efa89cadd15dde",
      "bee249f0ba294d23a3511dc0be9321fa",
      "ba26f9dbf556461bb48e7441a629584b",
      "f20ef6202b43463c85ee0c8b0f39d8d5",
      "3749e7d1652c4ede9fa62e01e708e3a3",
      "a991d5834a684c25ad32abb6afcb05c0",
      "1fdb8edd2b234d4497298f14306278f2",
      "95f3bfcc8cf84970a71eab21494a7d91",
      "0432fd20b2d34793b692f1241e0a5bec",
      "3de58688dbc34904a5a0fab35f99b102",
      "951ddcfcd9ae4113bf4c9fe531e574b0",
      "33231fe67f3e46ad853e632729bbca94",
      "6d7ac8aac6f448568d788b812d5f569a",
      "28d04e882a8a4e8a96eca64444c41d64",
      "b734aa0471154f3bbc884d300c987f86",
      "794e460ea78545769963b4eb766b8706",
      "797954b217d5449286c8286ca78282b0",
      "42b0092dd18743a68f6d273840e4553f",
      "92149ca11bed4b778b0d4823c639a159",
      "ede95efde89a46938f3fade7e03c480b",
      "443a5b92bb1d40248248c4d190d04f2b",
      "438c75ca0e2d4709b9eb384cca906668"
     ]
    },
    "executionInfo": {
     "elapsed": 2085,
     "status": "ok",
     "timestamp": 1647957171409,
     "user": {
      "displayName": "Edinburgh Mathematical Imaging",
      "photoUrl": "https://lh3.googleusercontent.com/a/default-user=s64",
      "userId": "00456964704998178126"
     },
     "user_tz": 0
    },
    "id": "TFjcE-heEogM",
    "outputId": "aabb537e-b978-47c3-f802-19f82420bf2e"
   },
   "outputs": [
    {
     "name": "stdout",
     "output_type": "stream",
     "text": [
      "Downloading http://yann.lecun.com/exdb/mnist/train-images-idx3-ubyte.gz\n",
      "Downloading http://yann.lecun.com/exdb/mnist/train-images-idx3-ubyte.gz to data/MNIST/raw/train-images-idx3-ubyte.gz\n"
     ]
    },
    {
     "data": {
      "application/vnd.jupyter.widget-view+json": {
       "model_id": "d6f24e7b6a96477a9dd37c13d4c1b149",
       "version_major": 2,
       "version_minor": 0
      },
      "text/plain": [
       "  0%|          | 0/9912422 [00:00<?, ?it/s]"
      ]
     },
     "metadata": {},
     "output_type": "display_data"
    },
    {
     "name": "stdout",
     "output_type": "stream",
     "text": [
      "Extracting data/MNIST/raw/train-images-idx3-ubyte.gz to data/MNIST/raw\n",
      "\n",
      "Downloading http://yann.lecun.com/exdb/mnist/train-labels-idx1-ubyte.gz\n",
      "Downloading http://yann.lecun.com/exdb/mnist/train-labels-idx1-ubyte.gz to data/MNIST/raw/train-labels-idx1-ubyte.gz\n"
     ]
    },
    {
     "data": {
      "application/vnd.jupyter.widget-view+json": {
       "model_id": "bf7ed4d40d50486c957f155d35c1b139",
       "version_major": 2,
       "version_minor": 0
      },
      "text/plain": [
       "  0%|          | 0/28881 [00:00<?, ?it/s]"
      ]
     },
     "metadata": {},
     "output_type": "display_data"
    },
    {
     "name": "stdout",
     "output_type": "stream",
     "text": [
      "Extracting data/MNIST/raw/train-labels-idx1-ubyte.gz to data/MNIST/raw\n",
      "\n",
      "Downloading http://yann.lecun.com/exdb/mnist/t10k-images-idx3-ubyte.gz\n",
      "Downloading http://yann.lecun.com/exdb/mnist/t10k-images-idx3-ubyte.gz to data/MNIST/raw/t10k-images-idx3-ubyte.gz\n"
     ]
    },
    {
     "data": {
      "application/vnd.jupyter.widget-view+json": {
       "model_id": "5c0896d250e34622a2efa89cadd15dde",
       "version_major": 2,
       "version_minor": 0
      },
      "text/plain": [
       "  0%|          | 0/1648877 [00:00<?, ?it/s]"
      ]
     },
     "metadata": {},
     "output_type": "display_data"
    },
    {
     "name": "stdout",
     "output_type": "stream",
     "text": [
      "Extracting data/MNIST/raw/t10k-images-idx3-ubyte.gz to data/MNIST/raw\n",
      "\n",
      "Downloading http://yann.lecun.com/exdb/mnist/t10k-labels-idx1-ubyte.gz\n",
      "Downloading http://yann.lecun.com/exdb/mnist/t10k-labels-idx1-ubyte.gz to data/MNIST/raw/t10k-labels-idx1-ubyte.gz\n"
     ]
    },
    {
     "data": {
      "application/vnd.jupyter.widget-view+json": {
       "model_id": "33231fe67f3e46ad853e632729bbca94",
       "version_major": 2,
       "version_minor": 0
      },
      "text/plain": [
       "  0%|          | 0/4542 [00:00<?, ?it/s]"
      ]
     },
     "metadata": {},
     "output_type": "display_data"
    },
    {
     "name": "stdout",
     "output_type": "stream",
     "text": [
      "Extracting data/MNIST/raw/t10k-labels-idx1-ubyte.gz to data/MNIST/raw\n",
      "\n"
     ]
    }
   ],
   "source": [
    "batch_size = 1\n",
    "test_loader = DataLoader(\n",
    "                    datasets.MNIST('data', train=False, download=True, transform=transforms.ToTensor()),\n",
    "                    batch_size=batch_size, shuffle=True)\n",
    "\n",
    "x_true = next(iter(test_loader))[0].to(device).detach()"
   ]
  },
  {
   "cell_type": "code",
   "execution_count": null,
   "metadata": {
    "colab": {
     "base_uri": "https://localhost:8080/",
     "height": 248
    },
    "executionInfo": {
     "elapsed": 173,
     "status": "ok",
     "timestamp": 1647956598312,
     "user": {
      "displayName": "Edinburgh Mathematical Imaging",
      "photoUrl": "https://lh3.googleusercontent.com/a/default-user=s64",
      "userId": "00456964704998178126"
     },
     "user_tz": 0
    },
    "id": "o0wi5VCGFSiM",
    "outputId": "c22cb086-8c2f-40a6-e7ca-c851182c3ab9"
   },
   "outputs": [
    {
     "data": {
      "image/png": "[encoded data removed]",
      "text/plain": [
       "<Figure size 432x288 with 1 Axes>"
      ]
     },
     "metadata": {
      "needs_background": "light"
     },
     "output_type": "display_data"
    }
   ],
   "source": [
    "imshow(x_true)"
   ]
  },
  {
   "cell_type": "markdown",
   "metadata": {
    "id": "M21iiIlqRRi5"
   },
   "source": [
    "### Generate observed data $y$ from $x$ by applying the observation model"
   ]
  },
  {
   "cell_type": "markdown",
   "metadata": {
    "id": "_tY-mLilFhQh"
   },
   "source": [
    "We now define a measurement model, and generate observation $y$.\n",
    "\n",
    "In this case, $A$ will be a linear operator applying a [box blur](https://en.wikipedia.org/wiki/Box_blur) of size 9 by 9, and we set $\\sigma=0.1$."
   ]
  },
  {
   "cell_type": "code",
   "execution_count": null,
   "metadata": {
    "colab": {
     "base_uri": "https://localhost:8080/",
     "height": 248
    },
    "executionInfo": {
     "elapsed": 544,
     "status": "ok",
     "timestamp": 1647957175170,
     "user": {
      "displayName": "Edinburgh Mathematical Imaging",
      "photoUrl": "https://lh3.googleusercontent.com/a/default-user=s64",
      "userId": "00456964704998178126"
     },
     "user_tz": 0
    },
    "id": "DL9dgB6fFtQc",
    "outputId": "35dc2b11-6b3f-447c-e024-2fadbda30872"
   },
   "outputs": [
    {
     "data": {
      "image/png": "[encoded data removed]",
      "text/plain": [
       "<Figure size 432x288 with 1 Axes>"
      ]
     },
     "metadata": {
      "needs_background": "light"
     },
     "output_type": "display_data"
    }
   ],
   "source": [
    "A = lambda x: kornia.filters.box_blur(x, (9,9))\n",
    "\n",
    "Ax = A(x_true)\n",
    "imshow(Ax)"
   ]
  },
  {
   "cell_type": "code",
   "execution_count": null,
   "metadata": {
    "colab": {
     "base_uri": "https://localhost:8080/",
     "height": 248
    },
    "executionInfo": {
     "elapsed": 2,
     "status": "ok",
     "timestamp": 1647957177147,
     "user": {
      "displayName": "Edinburgh Mathematical Imaging",
      "photoUrl": "https://lh3.googleusercontent.com/a/default-user=s64",
      "userId": "00456964704998178126"
     },
     "user_tz": 0
    },
    "id": "mkoy4aWmH_bu",
    "outputId": "256966a8-4b64-45b0-bce7-04e139f60b4d"
   },
   "outputs": [
    {
     "data": {
      "image/png": "[encoded data removed]",
      "text/plain": [
       "<Figure size 432x288 with 1 Axes>"
      ]
     },
     "metadata": {
      "needs_background": "light"
     },
     "output_type": "display_data"
    }
   ],
   "source": [
    "sigma = 0.1\n",
    "y = Ax + sigma * torch.randn_like(Ax)\n",
    "\n",
    "imshow(y)"
   ]
  },
  {
   "cell_type": "markdown",
   "metadata": {
    "id": "DnArKYBmr45E"
   },
   "source": [
    "## Defining the Prior\n",
    "\n",
    "The prior is defined by a Variational Autoencoder pretrained on the MNIST dataset.\n",
    "\n",
    "The VAE used here has a latent dimensionality of 12, and assigns the latent variable a standard normal distribution.\n",
    "\n",
    "**Task 1.1:** Load the pretrained VAE, e.g., using the code\n",
    "```\n",
    "vaefc = load_vae_model('FullyConnected', device=device)\n",
    "f_theta = lambda z: vaefc.decoder(z)[0]\n",
    "```\n",
    "and generate some (e.g., 4) samples from the prior distribution to check that the model has been correctly loaded. \n",
    "\n",
    "Recall:\n",
    "To sample the prior, we first generate $z_i$ according to the distribution $p_z(z)$, then apply the VAE to generate $x_i = f_\\theta(z_i)$"
   ]
  },
  {
   "cell_type": "code",
   "execution_count": null,
   "metadata": {
    "id": "uuP-sCvyv5xO"
   },
   "outputs": [],
   "source": [
    "# Add your code here"
   ]
  },
  {
   "cell_type": "markdown",
   "metadata": {
    "id": "CcQ3WBWAIRTs"
   },
   "source": [
    "## Sample Posterior Distribution using an Unadjusted Langevin Algorithm (ULA)"
   ]
  },
  {
   "cell_type": "markdown",
   "metadata": {
    "id": "APkpeH5ASblq"
   },
   "source": [
    "To sample $p_\\theta(z|y)$ using ULA it is necessary to calculate the gradient of $U = -\\log p_\\theta(z|y)$ with respect to $z$.\n",
    "\n",
    "This can be performed using autodifferentiation, using the **grad()** function within the **torch.autograd** automatic differentiation package, *e.g.*,\n",
    "\n",
    "```\n",
    "U = -log_posterior(z)\n",
    "dUdz = torch.autograd.grad(U, z)\n",
    "```\n",
    "\n",
    "**Task 1.2:** To implement ULA, write a function **log_posterior()** which, given input $z$ (additional arguments can be used) computes $\\log p_\\theta(z|y)$ (up to proportionality) according to Bayes' rule."
   ]
  },
  {
   "cell_type": "code",
   "execution_count": null,
   "metadata": {
    "id": "8yX6i4VQxaYK"
   },
   "outputs": [],
   "source": [
    "def log_prior(z):\n",
    "\n",
    "# Add your code here\n",
    "\n",
    "def log_likelihood(x, y, sigma):\n",
    "\n",
    "# Add your code here\n",
    "\n",
    "def log_posterior(z, y, A, sigma, f_theta):\n",
    "\n",
    "# Add your code here"
   ]
  },
  {
   "cell_type": "markdown",
   "metadata": {
    "id": "Y9lN_KzhU_JI"
   },
   "source": [
    "**Task 1.3:** Now write a function **ULA()** that, given an initial $z_0$, performs $N$ iterations of ULA with a step size $\\delta$ and a burn-in period of $N_0$ iterations.  The function should return the samples $\\{z_1,...,z_N\\}$ targeting $p_\\theta(z|y)$ (up to the discretisation bias of ULA)."
   ]
  },
  {
   "cell_type": "code",
   "execution_count": null,
   "metadata": {
    "id": "wdaIPsPvJTvv"
   },
   "outputs": [],
   "source": [
    "def ULA(z0, y, A, sigma, f_theta, niter, step_size, burnin):\n",
    "# Add your code here"
   ]
  },
  {
   "cell_type": "markdown",
   "metadata": {
    "id": "YBN4dr8Ze_A1"
   },
   "source": [
    "**Task 1.4:** Execute ULA to generate $N=10^5$ samples, with a step size of $\\delta = 0.001$ and a burn-in period of $N_0 = 10^3$ iterations."
   ]
  },
  {
   "cell_type": "code",
   "execution_count": null,
   "metadata": {
    "id": "jtw-Dl0cKORB"
   },
   "outputs": [],
   "source": [
    "# Add your code here"
   ]
  },
  {
   "cell_type": "markdown",
   "metadata": {
    "id": "jfCPsYoJVmFR"
   },
   "source": [
    "**Task 1.5:** Store $\\log p_\\theta(z_i|y)$ for each iteration $i$. Plot this statistic against $i$.  Does the Markov chain appear to have reached stationarity?"
   ]
  },
  {
   "cell_type": "code",
   "execution_count": null,
   "metadata": {
    "id": "gi25YBYF5Gh6"
   },
   "outputs": [],
   "source": [
    "# Add your code here"
   ]
  },
  {
   "cell_type": "markdown",
   "metadata": {
    "id": "cineNa58WIr6"
   },
   "source": [
    "**Task 1.6:** Using these samples from $\\log p_\\theta(z|y)$, estimate the posterior mean, after discarding the samples obtained before the chain has reached stationarity.\n",
    "\n",
    "Compute the [PSNR](https://en.wikipedia.org/wiki/Peak_signal-to-noise_ratio) of the posterior mean estimate with respect to the true image.  In this case, where the true image has a maximum intensity of 1, the PSNR (in dB) is given by:\n",
    "\n",
    "$$\n",
    "PSNR(y, x) = -10 \\log_{10} MSE(y, x)\n",
    "$$\n",
    "\n",
    "Note that a higher PSNR indicates a higher fidelity reconstruction of the true image.\n",
    "\n",
    "\\\n",
    "\n",
    "**Task 1.7:** How does changing $\\sigma$ and the size of the blur kernel affect the PSNR of the resulting Bayesian estimator? Discuss your results."
   ]
  },
  {
   "cell_type": "code",
   "execution_count": null,
   "metadata": {
    "id": "vCkuHs8XKtkX"
   },
   "outputs": [],
   "source": [
    "# Add your code here"
   ]
  },
  {
   "cell_type": "markdown",
   "metadata": {
    "id": "S5N0CAxGi0TH"
   },
   "source": [
    "### Principal Component Analysis\n",
    "\n",
    "A principal component analysis can be performed in order to help better understand the covariance structure of the posterior distribution.  This can be performed using **PCA** from **sklearn.decomposition** (imported in preamble).  The package documentations is available [here](https://scikit-learn.org/stable/modules/generated/sklearn.decomposition.PCA.html).\n",
    "\n",
    "**Task 1.8:** Perform PCA on the posterior samples of $z|y$ generated above.  Find and display the eigenvectors corresponding to the first 2 principal components.  \n",
    "\n",
    "**Task 1.9:** Explore how the estimated images change as you move in the direction of these eigenvalues. Briefly discuss your results.\n",
    "\n",
    "An example is given below illustrating how the estimated images change along the first 2 dimensions of the prior distribution on $z$."
   ]
  },
  {
   "cell_type": "code",
   "execution_count": null,
   "metadata": {
    "colab": {
     "base_uri": "https://localhost:8080/",
     "height": 411
    },
    "executionInfo": {
     "elapsed": 2787,
     "status": "ok",
     "timestamp": 1647957330916,
     "user": {
      "displayName": "Edinburgh Mathematical Imaging",
      "photoUrl": "https://lh3.googleusercontent.com/a/default-user=s64",
      "userId": "00456964704998178126"
     },
     "user_tz": 0
    },
    "id": "8j-YoOMkfJFm",
    "outputId": "31edaa52-758d-4adf-bf96-6c8749f733bf"
   },
   "outputs": [
    {
     "data": {
      "image/png": "[encoded data removed]",
      "text/plain": [
       "<Figure size 504x504 with 49 Axes>"
      ]
     },
     "metadata": {
      "needs_background": "light"
     },
     "output_type": "display_data"
    }
   ],
   "source": [
    "vaefc = load_vae_model('FullyConnected', device=device)\n",
    "f_theta = lambda z: vaefc.decoder(z)[0]\n",
    "\n",
    "z_mean = torch.zeros((1, latent_dim), device=device)\n",
    "\n",
    "eig0 = torch.zeros((1, latent_dim), device=device)\n",
    "eig0[:,0] = 1\n",
    "\n",
    "eig1 = torch.zeros((1, latent_dim), device=device)\n",
    "eig1[:,1] = 1\n",
    "\n",
    "nplots = 7\n",
    "fig, ax = plt.subplots(nplots, nplots, figsize=(nplots,nplots))\n",
    "\n",
    "plt.subplots_adjust(wspace=0, hspace=0)\n",
    "[axi.set_axis_off() for axi in ax.ravel()]\n",
    "\n",
    "ks = np.linspace(-3,3,nplots)\n",
    "for i in range(nplots):\n",
    "  for j in range(nplots):\n",
    "    k0 = ks[i]\n",
    "    k1 = ks[j]\n",
    "    ax[i,j].imshow(f_theta(z_mean + k0 * eig0 + k1 * eig1)[0,0].detach().cpu().numpy())"
   ]
  },
  {
   "cell_type": "code",
   "execution_count": null,
   "metadata": {
    "id": "G_FQWwS5zz4B"
   },
   "outputs": [],
   "source": [
    "# Add core here for Tasks 1.8 and 1.9"
   ]
  }
 ],
 "metadata": {
  "accelerator": "GPU",
  "colab": {
   "authorship_tag": "ABX9TyPPdaaapKG6jgs0d5K+Kxw1",
   "collapsed_sections": [],
   "mount_file_id": "1Wgje4YjwtK3O3D--pkj64GFVHeHYRaGV",
   "name": "Bayesian inference with VAE Prior - Ex1.ipynb",
   "provenance": [
    {
     "file_id": "1-efOHq8ZER9gTBupjSJ_E4oPH26frEAN",
     "timestamp": 1647956756722
    },
    {
     "file_id": "1Wgje4YjwtK3O3D--pkj64GFVHeHYRaGV",
     "timestamp": 1647948624432
    }
   ]
  },
  "kernelspec": {
   "display_name": "Python 3",
   "language": "python",
   "name": "python3"
  },
  "language_info": {
   "codemirror_mode": {
    "name": "ipython",
    "version": 3
   },
   "file_extension": ".py",
   "mimetype": "text/x-python",
   "name": "python",
   "nbconvert_exporter": "python",
   "pygments_lexer": "ipython3",
   "version": "3.6.7"
  },
  "widgets": {
   "application/vnd.jupyter.widget-state+json": {
    "0432fd20b2d34793b692f1241e0a5bec": {
     "model_module": "@jupyter-widgets/controls",
     "model_module_version": "1.5.0",
     "model_name": "ProgressStyleModel",
     "state": {
      "_model_module": "@jupyter-widgets/controls",
      "_model_module_version": "1.5.0",
      "_model_name": "ProgressStyleModel",
      "_view_count": null,
      "_view_module": "@jupyter-widgets/base",
      "_view_module_version": "1.2.0",
      "_view_name": "StyleView",
      "bar_color": null,
      "description_width": ""
     }
    },
    "09c96664412a4e68a069d56e81ee4ee6": {
     "model_module": "@jupyter-widgets/controls",
     "model_module_version": "1.5.0",
     "model_name": "DescriptionStyleModel",
     "state": {
      "_model_module": "@jupyter-widgets/controls",
      "_model_module_version": "1.5.0",
      "_model_name": "DescriptionStyleModel",
      "_view_count": null,
      "_view_module": "@jupyter-widgets/base",
      "_view_module_version": "1.2.0",
      "_view_name": "StyleView",
      "description_width": ""
     }
    },
    "1fdb8edd2b234d4497298f14306278f2": {
     "model_module": "@jupyter-widgets/controls",
     "model_module_version": "1.5.0",
     "model_name": "DescriptionStyleModel",
     "state": {
      "_model_module": "@jupyter-widgets/controls",
      "_model_module_version": "1.5.0",
      "_model_name": "DescriptionStyleModel",
      "_view_count": null,
      "_view_module": "@jupyter-widgets/base",
      "_view_module_version": "1.2.0",
      "_view_name": "StyleView",
      "description_width": ""
     }
    },
    "221ae56a8b1240f9ac6bd1e392812dd0": {
     "model_module": "@jupyter-widgets/controls",
     "model_module_version": "1.5.0",
     "model_name": "DescriptionStyleModel",
     "state": {
      "_model_module": "@jupyter-widgets/controls",
      "_model_module_version": "1.5.0",
      "_model_name": "DescriptionStyleModel",
      "_view_count": null,
      "_view_module": "@jupyter-widgets/base",
      "_view_module_version": "1.2.0",
      "_view_name": "StyleView",
      "description_width": ""
     }
    },
    "28d04e882a8a4e8a96eca64444c41d64": {
     "model_module": "@jupyter-widgets/controls",
     "model_module_version": "1.5.0",
     "model_name": "FloatProgressModel",
     "state": {
      "_dom_classes": [],
      "_model_module": "@jupyter-widgets/controls",
      "_model_module_version": "1.5.0",
      "_model_name": "FloatProgressModel",
      "_view_count": null,
      "_view_module": "@jupyter-widgets/controls",
      "_view_module_version": "1.5.0",
      "_view_name": "ProgressView",
      "bar_style": "success",
      "description": "",
      "description_tooltip": null,
      "layout": "IPY_MODEL_92149ca11bed4b778b0d4823c639a159",
      "max": 4542,
      "min": 0,
      "orientation": "horizontal",
      "style": "IPY_MODEL_ede95efde89a46938f3fade7e03c480b",
      "value": 4542
     }
    },
    "33231fe67f3e46ad853e632729bbca94": {
     "model_module": "@jupyter-widgets/controls",
     "model_module_version": "1.5.0",
     "model_name": "HBoxModel",
     "state": {
      "_dom_classes": [],
      "_model_module": "@jupyter-widgets/controls",
      "_model_module_version": "1.5.0",
      "_model_name": "HBoxModel",
      "_view_count": null,
      "_view_module": "@jupyter-widgets/controls",
      "_view_module_version": "1.5.0",
      "_view_name": "HBoxView",
      "box_style": "",
      "children": [
       "IPY_MODEL_6d7ac8aac6f448568d788b812d5f569a",
       "IPY_MODEL_28d04e882a8a4e8a96eca64444c41d64",
       "IPY_MODEL_b734aa0471154f3bbc884d300c987f86"
      ],
      "layout": "IPY_MODEL_794e460ea78545769963b4eb766b8706"
     }
    },
    "3749e7d1652c4ede9fa62e01e708e3a3": {
     "model_module": "@jupyter-widgets/base",
     "model_module_version": "1.2.0",
     "model_name": "LayoutModel",
     "state": {
      "_model_module": "@jupyter-widgets/base",
      "_model_module_version": "1.2.0",
      "_model_name": "LayoutModel",
      "_view_count": null,
      "_view_module": "@jupyter-widgets/base",
      "_view_module_version": "1.2.0",
      "_view_name": "LayoutView",
      "align_content": null,
      "align_items": null,
      "align_self": null,
      "border": null,
      "bottom": null,
      "display": null,
      "flex": null,
      "flex_flow": null,
      "grid_area": null,
      "grid_auto_columns": null,
      "grid_auto_flow": null,
      "grid_auto_rows": null,
      "grid_column": null,
      "grid_gap": null,
      "grid_row": null,
      "grid_template_areas": null,
      "grid_template_columns": null,
      "grid_template_rows": null,
      "height": null,
      "justify_content": null,
      "justify_items": null,
      "left": null,
      "margin": null,
      "max_height": null,
      "max_width": null,
      "min_height": null,
      "min_width": null,
      "object_fit": null,
      "object_position": null,
      "order": null,
      "overflow": null,
      "overflow_x": null,
      "overflow_y": null,
      "padding": null,
      "right": null,
      "top": null,
      "visibility": null,
      "width": null
     }
    },
    "3de58688dbc34904a5a0fab35f99b102": {
     "model_module": "@jupyter-widgets/base",
     "model_module_version": "1.2.0",
     "model_name": "LayoutModel",
     "state": {
      "_model_module": "@jupyter-widgets/base",
      "_model_module_version": "1.2.0",
      "_model_name": "LayoutModel",
      "_view_count": null,
      "_view_module": "@jupyter-widgets/base",
      "_view_module_version": "1.2.0",
      "_view_name": "LayoutView",
      "align_content": null,
      "align_items": null,
      "align_self": null,
      "border": null,
      "bottom": null,
      "display": null,
      "flex": null,
      "flex_flow": null,
      "grid_area": null,
      "grid_auto_columns": null,
      "grid_auto_flow": null,
      "grid_auto_rows": null,
      "grid_column": null,
      "grid_gap": null,
      "grid_row": null,
      "grid_template_areas": null,
      "grid_template_columns": null,
      "grid_template_rows": null,
      "height": null,
      "justify_content": null,
      "justify_items": null,
      "left": null,
      "margin": null,
      "max_height": null,
      "max_width": null,
      "min_height": null,
      "min_width": null,
      "object_fit": null,
      "object_position": null,
      "order": null,
      "overflow": null,
      "overflow_x": null,
      "overflow_y": null,
      "padding": null,
      "right": null,
      "top": null,
      "visibility": null,
      "width": null
     }
    },
    "422afb9ed68548ec95dd994de59c3300": {
     "model_module": "@jupyter-widgets/base",
     "model_module_version": "1.2.0",
     "model_name": "LayoutModel",
     "state": {
      "_model_module": "@jupyter-widgets/base",
      "_model_module_version": "1.2.0",
      "_model_name": "LayoutModel",
      "_view_count": null,
      "_view_module": "@jupyter-widgets/base",
      "_view_module_version": "1.2.0",
      "_view_name": "LayoutView",
      "align_content": null,
      "align_items": null,
      "align_self": null,
      "border": null,
      "bottom": null,
      "display": null,
      "flex": null,
      "flex_flow": null,
      "grid_area": null,
      "grid_auto_columns": null,
      "grid_auto_flow": null,
      "grid_auto_rows": null,
      "grid_column": null,
      "grid_gap": null,
      "grid_row": null,
      "grid_template_areas": null,
      "grid_template_columns": null,
      "grid_template_rows": null,
      "height": null,
      "justify_content": null,
      "justify_items": null,
      "left": null,
      "margin": null,
      "max_height": null,
      "max_width": null,
      "min_height": null,
      "min_width": null,
      "object_fit": null,
      "object_position": null,
      "order": null,
      "overflow": null,
      "overflow_x": null,
      "overflow_y": null,
      "padding": null,
      "right": null,
      "top": null,
      "visibility": null,
      "width": null
     }
    },
    "42b0092dd18743a68f6d273840e4553f": {
     "model_module": "@jupyter-widgets/controls",
     "model_module_version": "1.5.0",
     "model_name": "DescriptionStyleModel",
     "state": {
      "_model_module": "@jupyter-widgets/controls",
      "_model_module_version": "1.5.0",
      "_model_name": "DescriptionStyleModel",
      "_view_count": null,
      "_view_module": "@jupyter-widgets/base",
      "_view_module_version": "1.2.0",
      "_view_name": "StyleView",
      "description_width": ""
     }
    },
    "438c75ca0e2d4709b9eb384cca906668": {
     "model_module": "@jupyter-widgets/controls",
     "model_module_version": "1.5.0",
     "model_name": "DescriptionStyleModel",
     "state": {
      "_model_module": "@jupyter-widgets/controls",
      "_model_module_version": "1.5.0",
      "_model_name": "DescriptionStyleModel",
      "_view_count": null,
      "_view_module": "@jupyter-widgets/base",
      "_view_module_version": "1.2.0",
      "_view_name": "StyleView",
      "description_width": ""
     }
    },
    "443a5b92bb1d40248248c4d190d04f2b": {
     "model_module": "@jupyter-widgets/base",
     "model_module_version": "1.2.0",
     "model_name": "LayoutModel",
     "state": {
      "_model_module": "@jupyter-widgets/base",
      "_model_module_version": "1.2.0",
      "_model_name": "LayoutModel",
      "_view_count": null,
      "_view_module": "@jupyter-widgets/base",
      "_view_module_version": "1.2.0",
      "_view_name": "LayoutView",
      "align_content": null,
      "align_items": null,
      "align_self": null,
      "border": null,
      "bottom": null,
      "display": null,
      "flex": null,
      "flex_flow": null,
      "grid_area": null,
      "grid_auto_columns": null,
      "grid_auto_flow": null,
      "grid_auto_rows": null,
      "grid_column": null,
      "grid_gap": null,
      "grid_row": null,
      "grid_template_areas": null,
      "grid_template_columns": null,
      "grid_template_rows": null,
      "height": null,
      "justify_content": null,
      "justify_items": null,
      "left": null,
      "margin": null,
      "max_height": null,
      "max_width": null,
      "min_height": null,
      "min_width": null,
      "object_fit": null,
      "object_position": null,
      "order": null,
      "overflow": null,
      "overflow_x": null,
      "overflow_y": null,
      "padding": null,
      "right": null,
      "top": null,
      "visibility": null,
      "width": null
     }
    },
    "4df0de8db5aa4c828b8eec0b90ef0dcf": {
     "model_module": "@jupyter-widgets/controls",
     "model_module_version": "1.5.0",
     "model_name": "FloatProgressModel",
     "state": {
      "_dom_classes": [],
      "_model_module": "@jupyter-widgets/controls",
      "_model_module_version": "1.5.0",
      "_model_name": "FloatProgressModel",
      "_view_count": null,
      "_view_module": "@jupyter-widgets/controls",
      "_view_module_version": "1.5.0",
      "_view_name": "ProgressView",
      "bar_style": "success",
      "description": "",
      "description_tooltip": null,
      "layout": "IPY_MODEL_ef986d074f5a4ca78a350f6e2e0c5de1",
      "max": 28881,
      "min": 0,
      "orientation": "horizontal",
      "style": "IPY_MODEL_8f0b3dbf53314595a32dd3821fc51b72",
      "value": 28881
     }
    },
    "5c0896d250e34622a2efa89cadd15dde": {
     "model_module": "@jupyter-widgets/controls",
     "model_module_version": "1.5.0",
     "model_name": "HBoxModel",
     "state": {
      "_dom_classes": [],
      "_model_module": "@jupyter-widgets/controls",
      "_model_module_version": "1.5.0",
      "_model_name": "HBoxModel",
      "_view_count": null,
      "_view_module": "@jupyter-widgets/controls",
      "_view_module_version": "1.5.0",
      "_view_name": "HBoxView",
      "box_style": "",
      "children": [
       "IPY_MODEL_bee249f0ba294d23a3511dc0be9321fa",
       "IPY_MODEL_ba26f9dbf556461bb48e7441a629584b",
       "IPY_MODEL_f20ef6202b43463c85ee0c8b0f39d8d5"
      ],
      "layout": "IPY_MODEL_3749e7d1652c4ede9fa62e01e708e3a3"
     }
    },
    "5fff1581c661485895bf8e55e4ec5fd9": {
     "model_module": "@jupyter-widgets/controls",
     "model_module_version": "1.5.0",
     "model_name": "HTMLModel",
     "state": {
      "_dom_classes": [],
      "_model_module": "@jupyter-widgets/controls",
      "_model_module_version": "1.5.0",
      "_model_name": "HTMLModel",
      "_view_count": null,
      "_view_module": "@jupyter-widgets/controls",
      "_view_module_version": "1.5.0",
      "_view_name": "HTMLView",
      "description": "",
      "description_tooltip": null,
      "layout": "IPY_MODEL_af013d970e314c239fd7c2d7f8167ea5",
      "placeholder": "​",
      "style": "IPY_MODEL_09c96664412a4e68a069d56e81ee4ee6",
      "value": ""
     }
    },
    "634241987ef948b992f2a7324147eb86": {
     "model_module": "@jupyter-widgets/base",
     "model_module_version": "1.2.0",
     "model_name": "LayoutModel",
     "state": {
      "_model_module": "@jupyter-widgets/base",
      "_model_module_version": "1.2.0",
      "_model_name": "LayoutModel",
      "_view_count": null,
      "_view_module": "@jupyter-widgets/base",
      "_view_module_version": "1.2.0",
      "_view_name": "LayoutView",
      "align_content": null,
      "align_items": null,
      "align_self": null,
      "border": null,
      "bottom": null,
      "display": null,
      "flex": null,
      "flex_flow": null,
      "grid_area": null,
      "grid_auto_columns": null,
      "grid_auto_flow": null,
      "grid_auto_rows": null,
      "grid_column": null,
      "grid_gap": null,
      "grid_row": null,
      "grid_template_areas": null,
      "grid_template_columns": null,
      "grid_template_rows": null,
      "height": null,
      "justify_content": null,
      "justify_items": null,
      "left": null,
      "margin": null,
      "max_height": null,
      "max_width": null,
      "min_height": null,
      "min_width": null,
      "object_fit": null,
      "object_position": null,
      "order": null,
      "overflow": null,
      "overflow_x": null,
      "overflow_y": null,
      "padding": null,
      "right": null,
      "top": null,
      "visibility": null,
      "width": null
     }
    },
    "6b4a718ac8544b6e8e3a87ca9620df3e": {
     "model_module": "@jupyter-widgets/base",
     "model_module_version": "1.2.0",
     "model_name": "LayoutModel",
     "state": {
      "_model_module": "@jupyter-widgets/base",
      "_model_module_version": "1.2.0",
      "_model_name": "LayoutModel",
      "_view_count": null,
      "_view_module": "@jupyter-widgets/base",
      "_view_module_version": "1.2.0",
      "_view_name": "LayoutView",
      "align_content": null,
      "align_items": null,
      "align_self": null,
      "border": null,
      "bottom": null,
      "display": null,
      "flex": null,
      "flex_flow": null,
      "grid_area": null,
      "grid_auto_columns": null,
      "grid_auto_flow": null,
      "grid_auto_rows": null,
      "grid_column": null,
      "grid_gap": null,
      "grid_row": null,
      "grid_template_areas": null,
      "grid_template_columns": null,
      "grid_template_rows": null,
      "height": null,
      "justify_content": null,
      "justify_items": null,
      "left": null,
      "margin": null,
      "max_height": null,
      "max_width": null,
      "min_height": null,
      "min_width": null,
      "object_fit": null,
      "object_position": null,
      "order": null,
      "overflow": null,
      "overflow_x": null,
      "overflow_y": null,
      "padding": null,
      "right": null,
      "top": null,
      "visibility": null,
      "width": null
     }
    },
    "6d7ac8aac6f448568d788b812d5f569a": {
     "model_module": "@jupyter-widgets/controls",
     "model_module_version": "1.5.0",
     "model_name": "HTMLModel",
     "state": {
      "_dom_classes": [],
      "_model_module": "@jupyter-widgets/controls",
      "_model_module_version": "1.5.0",
      "_model_name": "HTMLModel",
      "_view_count": null,
      "_view_module": "@jupyter-widgets/controls",
      "_view_module_version": "1.5.0",
      "_view_name": "HTMLView",
      "description": "",
      "description_tooltip": null,
      "layout": "IPY_MODEL_797954b217d5449286c8286ca78282b0",
      "placeholder": "​",
      "style": "IPY_MODEL_42b0092dd18743a68f6d273840e4553f",
      "value": ""
     }
    },
    "73015cb052ad4596ad81198ab06580dd": {
     "model_module": "@jupyter-widgets/controls",
     "model_module_version": "1.5.0",
     "model_name": "HTMLModel",
     "state": {
      "_dom_classes": [],
      "_model_module": "@jupyter-widgets/controls",
      "_model_module_version": "1.5.0",
      "_model_name": "HTMLModel",
      "_view_count": null,
      "_view_module": "@jupyter-widgets/controls",
      "_view_module_version": "1.5.0",
      "_view_name": "HTMLView",
      "description": "",
      "description_tooltip": null,
      "layout": "IPY_MODEL_e68afde2ca334a3494e6a54ede0719fb",
      "placeholder": "​",
      "style": "IPY_MODEL_a58a2e3cf9f64042be64fd25a493dc46",
      "value": " 29696/? [00:00&lt;00:00, 638365.53it/s]"
     }
    },
    "794e460ea78545769963b4eb766b8706": {
     "model_module": "@jupyter-widgets/base",
     "model_module_version": "1.2.0",
     "model_name": "LayoutModel",
     "state": {
      "_model_module": "@jupyter-widgets/base",
      "_model_module_version": "1.2.0",
      "_model_name": "LayoutModel",
      "_view_count": null,
      "_view_module": "@jupyter-widgets/base",
      "_view_module_version": "1.2.0",
      "_view_name": "LayoutView",
      "align_content": null,
      "align_items": null,
      "align_self": null,
      "border": null,
      "bottom": null,
      "display": null,
      "flex": null,
      "flex_flow": null,
      "grid_area": null,
      "grid_auto_columns": null,
      "grid_auto_flow": null,
      "grid_auto_rows": null,
      "grid_column": null,
      "grid_gap": null,
      "grid_row": null,
      "grid_template_areas": null,
      "grid_template_columns": null,
      "grid_template_rows": null,
      "height": null,
      "justify_content": null,
      "justify_items": null,
      "left": null,
      "margin": null,
      "max_height": null,
      "max_width": null,
      "min_height": null,
      "min_width": null,
      "object_fit": null,
      "object_position": null,
      "order": null,
      "overflow": null,
      "overflow_x": null,
      "overflow_y": null,
      "padding": null,
      "right": null,
      "top": null,
      "visibility": null,
      "width": null
     }
    },
    "797954b217d5449286c8286ca78282b0": {
     "model_module": "@jupyter-widgets/base",
     "model_module_version": "1.2.0",
     "model_name": "LayoutModel",
     "state": {
      "_model_module": "@jupyter-widgets/base",
      "_model_module_version": "1.2.0",
      "_model_name": "LayoutModel",
      "_view_count": null,
      "_view_module": "@jupyter-widgets/base",
      "_view_module_version": "1.2.0",
      "_view_name": "LayoutView",
      "align_content": null,
      "align_items": null,
      "align_self": null,
      "border": null,
      "bottom": null,
      "display": null,
      "flex": null,
      "flex_flow": null,
      "grid_area": null,
      "grid_auto_columns": null,
      "grid_auto_flow": null,
      "grid_auto_rows": null,
      "grid_column": null,
      "grid_gap": null,
      "grid_row": null,
      "grid_template_areas": null,
      "grid_template_columns": null,
      "grid_template_rows": null,
      "height": null,
      "justify_content": null,
      "justify_items": null,
      "left": null,
      "margin": null,
      "max_height": null,
      "max_width": null,
      "min_height": null,
      "min_width": null,
      "object_fit": null,
      "object_position": null,
      "order": null,
      "overflow": null,
      "overflow_x": null,
      "overflow_y": null,
      "padding": null,
      "right": null,
      "top": null,
      "visibility": null,
      "width": null
     }
    },
    "7e0e082aa7d046878de2866335c1d4dd": {
     "model_module": "@jupyter-widgets/controls",
     "model_module_version": "1.5.0",
     "model_name": "FloatProgressModel",
     "state": {
      "_dom_classes": [],
      "_model_module": "@jupyter-widgets/controls",
      "_model_module_version": "1.5.0",
      "_model_name": "FloatProgressModel",
      "_view_count": null,
      "_view_module": "@jupyter-widgets/controls",
      "_view_module_version": "1.5.0",
      "_view_name": "ProgressView",
      "bar_style": "success",
      "description": "",
      "description_tooltip": null,
      "layout": "IPY_MODEL_cb4fa0731be94cccac49b8bd7d07ec56",
      "max": 9912422,
      "min": 0,
      "orientation": "horizontal",
      "style": "IPY_MODEL_a43980e79554498d9a3a0c4b9434a6d5",
      "value": 9912422
     }
    },
    "8f0b3dbf53314595a32dd3821fc51b72": {
     "model_module": "@jupyter-widgets/controls",
     "model_module_version": "1.5.0",
     "model_name": "ProgressStyleModel",
     "state": {
      "_model_module": "@jupyter-widgets/controls",
      "_model_module_version": "1.5.0",
      "_model_name": "ProgressStyleModel",
      "_view_count": null,
      "_view_module": "@jupyter-widgets/base",
      "_view_module_version": "1.2.0",
      "_view_name": "StyleView",
      "bar_color": null,
      "description_width": ""
     }
    },
    "92149ca11bed4b778b0d4823c639a159": {
     "model_module": "@jupyter-widgets/base",
     "model_module_version": "1.2.0",
     "model_name": "LayoutModel",
     "state": {
      "_model_module": "@jupyter-widgets/base",
      "_model_module_version": "1.2.0",
      "_model_name": "LayoutModel",
      "_view_count": null,
      "_view_module": "@jupyter-widgets/base",
      "_view_module_version": "1.2.0",
      "_view_name": "LayoutView",
      "align_content": null,
      "align_items": null,
      "align_self": null,
      "border": null,
      "bottom": null,
      "display": null,
      "flex": null,
      "flex_flow": null,
      "grid_area": null,
      "grid_auto_columns": null,
      "grid_auto_flow": null,
      "grid_auto_rows": null,
      "grid_column": null,
      "grid_gap": null,
      "grid_row": null,
      "grid_template_areas": null,
      "grid_template_columns": null,
      "grid_template_rows": null,
      "height": null,
      "justify_content": null,
      "justify_items": null,
      "left": null,
      "margin": null,
      "max_height": null,
      "max_width": null,
      "min_height": null,
      "min_width": null,
      "object_fit": null,
      "object_position": null,
      "order": null,
      "overflow": null,
      "overflow_x": null,
      "overflow_y": null,
      "padding": null,
      "right": null,
      "top": null,
      "visibility": null,
      "width": null
     }
    },
    "941c8916fed44b90956ffc9f93fa3ad5": {
     "model_module": "@jupyter-widgets/controls",
     "model_module_version": "1.5.0",
     "model_name": "HTMLModel",
     "state": {
      "_dom_classes": [],
      "_model_module": "@jupyter-widgets/controls",
      "_model_module_version": "1.5.0",
      "_model_name": "HTMLModel",
      "_view_count": null,
      "_view_module": "@jupyter-widgets/controls",
      "_view_module_version": "1.5.0",
      "_view_name": "HTMLView",
      "description": "",
      "description_tooltip": null,
      "layout": "IPY_MODEL_ad3d0ac580564f6da1f8d29630343ffc",
      "placeholder": "​",
      "style": "IPY_MODEL_f57f10df121346cda73e9220870586d1",
      "value": " 9913344/? [00:00&lt;00:00, 22448024.40it/s]"
     }
    },
    "951ddcfcd9ae4113bf4c9fe531e574b0": {
     "model_module": "@jupyter-widgets/controls",
     "model_module_version": "1.5.0",
     "model_name": "DescriptionStyleModel",
     "state": {
      "_model_module": "@jupyter-widgets/controls",
      "_model_module_version": "1.5.0",
      "_model_name": "DescriptionStyleModel",
      "_view_count": null,
      "_view_module": "@jupyter-widgets/base",
      "_view_module_version": "1.2.0",
      "_view_name": "StyleView",
      "description_width": ""
     }
    },
    "95f3bfcc8cf84970a71eab21494a7d91": {
     "model_module": "@jupyter-widgets/base",
     "model_module_version": "1.2.0",
     "model_name": "LayoutModel",
     "state": {
      "_model_module": "@jupyter-widgets/base",
      "_model_module_version": "1.2.0",
      "_model_name": "LayoutModel",
      "_view_count": null,
      "_view_module": "@jupyter-widgets/base",
      "_view_module_version": "1.2.0",
      "_view_name": "LayoutView",
      "align_content": null,
      "align_items": null,
      "align_self": null,
      "border": null,
      "bottom": null,
      "display": null,
      "flex": null,
      "flex_flow": null,
      "grid_area": null,
      "grid_auto_columns": null,
      "grid_auto_flow": null,
      "grid_auto_rows": null,
      "grid_column": null,
      "grid_gap": null,
      "grid_row": null,
      "grid_template_areas": null,
      "grid_template_columns": null,
      "grid_template_rows": null,
      "height": null,
      "justify_content": null,
      "justify_items": null,
      "left": null,
      "margin": null,
      "max_height": null,
      "max_width": null,
      "min_height": null,
      "min_width": null,
      "object_fit": null,
      "object_position": null,
      "order": null,
      "overflow": null,
      "overflow_x": null,
      "overflow_y": null,
      "padding": null,
      "right": null,
      "top": null,
      "visibility": null,
      "width": null
     }
    },
    "9f5e03e3f97247718bba0c76029f47e8": {
     "model_module": "@jupyter-widgets/controls",
     "model_module_version": "1.5.0",
     "model_name": "HTMLModel",
     "state": {
      "_dom_classes": [],
      "_model_module": "@jupyter-widgets/controls",
      "_model_module_version": "1.5.0",
      "_model_name": "HTMLModel",
      "_view_count": null,
      "_view_module": "@jupyter-widgets/controls",
      "_view_module_version": "1.5.0",
      "_view_name": "HTMLView",
      "description": "",
      "description_tooltip": null,
      "layout": "IPY_MODEL_422afb9ed68548ec95dd994de59c3300",
      "placeholder": "​",
      "style": "IPY_MODEL_221ae56a8b1240f9ac6bd1e392812dd0",
      "value": ""
     }
    },
    "a43980e79554498d9a3a0c4b9434a6d5": {
     "model_module": "@jupyter-widgets/controls",
     "model_module_version": "1.5.0",
     "model_name": "ProgressStyleModel",
     "state": {
      "_model_module": "@jupyter-widgets/controls",
      "_model_module_version": "1.5.0",
      "_model_name": "ProgressStyleModel",
      "_view_count": null,
      "_view_module": "@jupyter-widgets/base",
      "_view_module_version": "1.2.0",
      "_view_name": "StyleView",
      "bar_color": null,
      "description_width": ""
     }
    },
    "a58a2e3cf9f64042be64fd25a493dc46": {
     "model_module": "@jupyter-widgets/controls",
     "model_module_version": "1.5.0",
     "model_name": "DescriptionStyleModel",
     "state": {
      "_model_module": "@jupyter-widgets/controls",
      "_model_module_version": "1.5.0",
      "_model_name": "DescriptionStyleModel",
      "_view_count": null,
      "_view_module": "@jupyter-widgets/base",
      "_view_module_version": "1.2.0",
      "_view_name": "StyleView",
      "description_width": ""
     }
    },
    "a991d5834a684c25ad32abb6afcb05c0": {
     "model_module": "@jupyter-widgets/base",
     "model_module_version": "1.2.0",
     "model_name": "LayoutModel",
     "state": {
      "_model_module": "@jupyter-widgets/base",
      "_model_module_version": "1.2.0",
      "_model_name": "LayoutModel",
      "_view_count": null,
      "_view_module": "@jupyter-widgets/base",
      "_view_module_version": "1.2.0",
      "_view_name": "LayoutView",
      "align_content": null,
      "align_items": null,
      "align_self": null,
      "border": null,
      "bottom": null,
      "display": null,
      "flex": null,
      "flex_flow": null,
      "grid_area": null,
      "grid_auto_columns": null,
      "grid_auto_flow": null,
      "grid_auto_rows": null,
      "grid_column": null,
      "grid_gap": null,
      "grid_row": null,
      "grid_template_areas": null,
      "grid_template_columns": null,
      "grid_template_rows": null,
      "height": null,
      "justify_content": null,
      "justify_items": null,
      "left": null,
      "margin": null,
      "max_height": null,
      "max_width": null,
      "min_height": null,
      "min_width": null,
      "object_fit": null,
      "object_position": null,
      "order": null,
      "overflow": null,
      "overflow_x": null,
      "overflow_y": null,
      "padding": null,
      "right": null,
      "top": null,
      "visibility": null,
      "width": null
     }
    },
    "ad3d0ac580564f6da1f8d29630343ffc": {
     "model_module": "@jupyter-widgets/base",
     "model_module_version": "1.2.0",
     "model_name": "LayoutModel",
     "state": {
      "_model_module": "@jupyter-widgets/base",
      "_model_module_version": "1.2.0",
      "_model_name": "LayoutModel",
      "_view_count": null,
      "_view_module": "@jupyter-widgets/base",
      "_view_module_version": "1.2.0",
      "_view_name": "LayoutView",
      "align_content": null,
      "align_items": null,
      "align_self": null,
      "border": null,
      "bottom": null,
      "display": null,
      "flex": null,
      "flex_flow": null,
      "grid_area": null,
      "grid_auto_columns": null,
      "grid_auto_flow": null,
      "grid_auto_rows": null,
      "grid_column": null,
      "grid_gap": null,
      "grid_row": null,
      "grid_template_areas": null,
      "grid_template_columns": null,
      "grid_template_rows": null,
      "height": null,
      "justify_content": null,
      "justify_items": null,
      "left": null,
      "margin": null,
      "max_height": null,
      "max_width": null,
      "min_height": null,
      "min_width": null,
      "object_fit": null,
      "object_position": null,
      "order": null,
      "overflow": null,
      "overflow_x": null,
      "overflow_y": null,
      "padding": null,
      "right": null,
      "top": null,
      "visibility": null,
      "width": null
     }
    },
    "af013d970e314c239fd7c2d7f8167ea5": {
     "model_module": "@jupyter-widgets/base",
     "model_module_version": "1.2.0",
     "model_name": "LayoutModel",
     "state": {
      "_model_module": "@jupyter-widgets/base",
      "_model_module_version": "1.2.0",
      "_model_name": "LayoutModel",
      "_view_count": null,
      "_view_module": "@jupyter-widgets/base",
      "_view_module_version": "1.2.0",
      "_view_name": "LayoutView",
      "align_content": null,
      "align_items": null,
      "align_self": null,
      "border": null,
      "bottom": null,
      "display": null,
      "flex": null,
      "flex_flow": null,
      "grid_area": null,
      "grid_auto_columns": null,
      "grid_auto_flow": null,
      "grid_auto_rows": null,
      "grid_column": null,
      "grid_gap": null,
      "grid_row": null,
      "grid_template_areas": null,
      "grid_template_columns": null,
      "grid_template_rows": null,
      "height": null,
      "justify_content": null,
      "justify_items": null,
      "left": null,
      "margin": null,
      "max_height": null,
      "max_width": null,
      "min_height": null,
      "min_width": null,
      "object_fit": null,
      "object_position": null,
      "order": null,
      "overflow": null,
      "overflow_x": null,
      "overflow_y": null,
      "padding": null,
      "right": null,
      "top": null,
      "visibility": null,
      "width": null
     }
    },
    "b734aa0471154f3bbc884d300c987f86": {
     "model_module": "@jupyter-widgets/controls",
     "model_module_version": "1.5.0",
     "model_name": "HTMLModel",
     "state": {
      "_dom_classes": [],
      "_model_module": "@jupyter-widgets/controls",
      "_model_module_version": "1.5.0",
      "_model_name": "HTMLModel",
      "_view_count": null,
      "_view_module": "@jupyter-widgets/controls",
      "_view_module_version": "1.5.0",
      "_view_name": "HTMLView",
      "description": "",
      "description_tooltip": null,
      "layout": "IPY_MODEL_443a5b92bb1d40248248c4d190d04f2b",
      "placeholder": "​",
      "style": "IPY_MODEL_438c75ca0e2d4709b9eb384cca906668",
      "value": " 5120/? [00:00&lt;00:00, 114119.80it/s]"
     }
    },
    "ba26f9dbf556461bb48e7441a629584b": {
     "model_module": "@jupyter-widgets/controls",
     "model_module_version": "1.5.0",
     "model_name": "FloatProgressModel",
     "state": {
      "_dom_classes": [],
      "_model_module": "@jupyter-widgets/controls",
      "_model_module_version": "1.5.0",
      "_model_name": "FloatProgressModel",
      "_view_count": null,
      "_view_module": "@jupyter-widgets/controls",
      "_view_module_version": "1.5.0",
      "_view_name": "ProgressView",
      "bar_style": "success",
      "description": "",
      "description_tooltip": null,
      "layout": "IPY_MODEL_95f3bfcc8cf84970a71eab21494a7d91",
      "max": 1648877,
      "min": 0,
      "orientation": "horizontal",
      "style": "IPY_MODEL_0432fd20b2d34793b692f1241e0a5bec",
      "value": 1648877
     }
    },
    "bee249f0ba294d23a3511dc0be9321fa": {
     "model_module": "@jupyter-widgets/controls",
     "model_module_version": "1.5.0",
     "model_name": "HTMLModel",
     "state": {
      "_dom_classes": [],
      "_model_module": "@jupyter-widgets/controls",
      "_model_module_version": "1.5.0",
      "_model_name": "HTMLModel",
      "_view_count": null,
      "_view_module": "@jupyter-widgets/controls",
      "_view_module_version": "1.5.0",
      "_view_name": "HTMLView",
      "description": "",
      "description_tooltip": null,
      "layout": "IPY_MODEL_a991d5834a684c25ad32abb6afcb05c0",
      "placeholder": "​",
      "style": "IPY_MODEL_1fdb8edd2b234d4497298f14306278f2",
      "value": ""
     }
    },
    "bf7ed4d40d50486c957f155d35c1b139": {
     "model_module": "@jupyter-widgets/controls",
     "model_module_version": "1.5.0",
     "model_name": "HBoxModel",
     "state": {
      "_dom_classes": [],
      "_model_module": "@jupyter-widgets/controls",
      "_model_module_version": "1.5.0",
      "_model_name": "HBoxModel",
      "_view_count": null,
      "_view_module": "@jupyter-widgets/controls",
      "_view_module_version": "1.5.0",
      "_view_name": "HBoxView",
      "box_style": "",
      "children": [
       "IPY_MODEL_9f5e03e3f97247718bba0c76029f47e8",
       "IPY_MODEL_4df0de8db5aa4c828b8eec0b90ef0dcf",
       "IPY_MODEL_73015cb052ad4596ad81198ab06580dd"
      ],
      "layout": "IPY_MODEL_634241987ef948b992f2a7324147eb86"
     }
    },
    "cb4fa0731be94cccac49b8bd7d07ec56": {
     "model_module": "@jupyter-widgets/base",
     "model_module_version": "1.2.0",
     "model_name": "LayoutModel",
     "state": {
      "_model_module": "@jupyter-widgets/base",
      "_model_module_version": "1.2.0",
      "_model_name": "LayoutModel",
      "_view_count": null,
      "_view_module": "@jupyter-widgets/base",
      "_view_module_version": "1.2.0",
      "_view_name": "LayoutView",
      "align_content": null,
      "align_items": null,
      "align_self": null,
      "border": null,
      "bottom": null,
      "display": null,
      "flex": null,
      "flex_flow": null,
      "grid_area": null,
      "grid_auto_columns": null,
      "grid_auto_flow": null,
      "grid_auto_rows": null,
      "grid_column": null,
      "grid_gap": null,
      "grid_row": null,
      "grid_template_areas": null,
      "grid_template_columns": null,
      "grid_template_rows": null,
      "height": null,
      "justify_content": null,
      "justify_items": null,
      "left": null,
      "margin": null,
      "max_height": null,
      "max_width": null,
      "min_height": null,
      "min_width": null,
      "object_fit": null,
      "object_position": null,
      "order": null,
      "overflow": null,
      "overflow_x": null,
      "overflow_y": null,
      "padding": null,
      "right": null,
      "top": null,
      "visibility": null,
      "width": null
     }
    },
    "d6f24e7b6a96477a9dd37c13d4c1b149": {
     "model_module": "@jupyter-widgets/controls",
     "model_module_version": "1.5.0",
     "model_name": "HBoxModel",
     "state": {
      "_dom_classes": [],
      "_model_module": "@jupyter-widgets/controls",
      "_model_module_version": "1.5.0",
      "_model_name": "HBoxModel",
      "_view_count": null,
      "_view_module": "@jupyter-widgets/controls",
      "_view_module_version": "1.5.0",
      "_view_name": "HBoxView",
      "box_style": "",
      "children": [
       "IPY_MODEL_5fff1581c661485895bf8e55e4ec5fd9",
       "IPY_MODEL_7e0e082aa7d046878de2866335c1d4dd",
       "IPY_MODEL_941c8916fed44b90956ffc9f93fa3ad5"
      ],
      "layout": "IPY_MODEL_6b4a718ac8544b6e8e3a87ca9620df3e"
     }
    },
    "e68afde2ca334a3494e6a54ede0719fb": {
     "model_module": "@jupyter-widgets/base",
     "model_module_version": "1.2.0",
     "model_name": "LayoutModel",
     "state": {
      "_model_module": "@jupyter-widgets/base",
      "_model_module_version": "1.2.0",
      "_model_name": "LayoutModel",
      "_view_count": null,
      "_view_module": "@jupyter-widgets/base",
      "_view_module_version": "1.2.0",
      "_view_name": "LayoutView",
      "align_content": null,
      "align_items": null,
      "align_self": null,
      "border": null,
      "bottom": null,
      "display": null,
      "flex": null,
      "flex_flow": null,
      "grid_area": null,
      "grid_auto_columns": null,
      "grid_auto_flow": null,
      "grid_auto_rows": null,
      "grid_column": null,
      "grid_gap": null,
      "grid_row": null,
      "grid_template_areas": null,
      "grid_template_columns": null,
      "grid_template_rows": null,
      "height": null,
      "justify_content": null,
      "justify_items": null,
      "left": null,
      "margin": null,
      "max_height": null,
      "max_width": null,
      "min_height": null,
      "min_width": null,
      "object_fit": null,
      "object_position": null,
      "order": null,
      "overflow": null,
      "overflow_x": null,
      "overflow_y": null,
      "padding": null,
      "right": null,
      "top": null,
      "visibility": null,
      "width": null
     }
    },
    "ede95efde89a46938f3fade7e03c480b": {
     "model_module": "@jupyter-widgets/controls",
     "model_module_version": "1.5.0",
     "model_name": "ProgressStyleModel",
     "state": {
      "_model_module": "@jupyter-widgets/controls",
      "_model_module_version": "1.5.0",
      "_model_name": "ProgressStyleModel",
      "_view_count": null,
      "_view_module": "@jupyter-widgets/base",
      "_view_module_version": "1.2.0",
      "_view_name": "StyleView",
      "bar_color": null,
      "description_width": ""
     }
    },
    "ef986d074f5a4ca78a350f6e2e0c5de1": {
     "model_module": "@jupyter-widgets/base",
     "model_module_version": "1.2.0",
     "model_name": "LayoutModel",
     "state": {
      "_model_module": "@jupyter-widgets/base",
      "_model_module_version": "1.2.0",
      "_model_name": "LayoutModel",
      "_view_count": null,
      "_view_module": "@jupyter-widgets/base",
      "_view_module_version": "1.2.0",
      "_view_name": "LayoutView",
      "align_content": null,
      "align_items": null,
      "align_self": null,
      "border": null,
      "bottom": null,
      "display": null,
      "flex": null,
      "flex_flow": null,
      "grid_area": null,
      "grid_auto_columns": null,
      "grid_auto_flow": null,
      "grid_auto_rows": null,
      "grid_column": null,
      "grid_gap": null,
      "grid_row": null,
      "grid_template_areas": null,
      "grid_template_columns": null,
      "grid_template_rows": null,
      "height": null,
      "justify_content": null,
      "justify_items": null,
      "left": null,
      "margin": null,
      "max_height": null,
      "max_width": null,
      "min_height": null,
      "min_width": null,
      "object_fit": null,
      "object_position": null,
      "order": null,
      "overflow": null,
      "overflow_x": null,
      "overflow_y": null,
      "padding": null,
      "right": null,
      "top": null,
      "visibility": null,
      "width": null
     }
    },
    "f20ef6202b43463c85ee0c8b0f39d8d5": {
     "model_module": "@jupyter-widgets/controls",
     "model_module_version": "1.5.0",
     "model_name": "HTMLModel",
     "state": {
      "_dom_classes": [],
      "_model_module": "@jupyter-widgets/controls",
      "_model_module_version": "1.5.0",
      "_model_name": "HTMLModel",
      "_view_count": null,
      "_view_module": "@jupyter-widgets/controls",
      "_view_module_version": "1.5.0",
      "_view_name": "HTMLView",
      "description": "",
      "description_tooltip": null,
      "layout": "IPY_MODEL_3de58688dbc34904a5a0fab35f99b102",
      "placeholder": "​",
      "style": "IPY_MODEL_951ddcfcd9ae4113bf4c9fe531e574b0",
      "value": " 1649664/? [00:00&lt;00:00, 8814625.94it/s]"
     }
    },
    "f57f10df121346cda73e9220870586d1": {
     "model_module": "@jupyter-widgets/controls",
     "model_module_version": "1.5.0",
     "model_name": "DescriptionStyleModel",
     "state": {
      "_model_module": "@jupyter-widgets/controls",
      "_model_module_version": "1.5.0",
      "_model_name": "DescriptionStyleModel",
      "_view_count": null,
      "_view_module": "@jupyter-widgets/base",
      "_view_module_version": "1.2.0",
      "_view_name": "StyleView",
      "description_width": ""
     }
    }
   }
  }
 },
 "nbformat": 4,
 "nbformat_minor": 1
}
